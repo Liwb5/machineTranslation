{
 "cells": [
  {
   "cell_type": "code",
   "execution_count": 1,
   "metadata": {
    "collapsed": true
   },
   "outputs": [],
   "source": [
    "from __future__ import unicode_literals, print_function, division\n",
    "from io import open\n",
    "import unicodedata\n",
    "import string\n",
    "import re\n",
    "import random\n",
    "import numpy as np\n",
    "import pandas as pd\n",
    "\n",
    "import pickle\n",
    "import jieba\n",
    "import h5py\n",
    "\n",
    "SOS_token = 0\n",
    "EOS_token = 1\n",
    "__PADDING__ = 2\n",
    "lang1 = 'en'\n",
    "lang2 = 'zh'"
   ]
  },
  {
   "cell_type": "code",
   "execution_count": null,
   "metadata": {
    "collapsed": true
   },
   "outputs": [],
   "source": [
    "class Lang:\n",
    "    def __init__(self, name):\n",
    "        self.name = name\n",
    "        self.word2index = {}\n",
    "        self.word2count = {}\n",
    "        self.index2word = {0: \"SOS\", 1: \"EOS\",2:\"__PADDING__\"}\n",
    "        self.n_words = 3  # Count SOS and EOS and __PADDING__\n",
    "        \n",
    "    def countWordFreq(self, word):\n",
    "        if word not in self.word2count:\n",
    "            self.word2count[word] = 1\n",
    "            self.n_words += 1\n",
    "        else:\n",
    "            self.word2count[word] +=1\n",
    "\n",
    "    #通过不断输入sentence（字符串的格式），构建词与下标的对应（词典），方便制作one-hot。\n",
    "    def addSentence(self, sentence):\n",
    "        for word in sentence.split(' '):\n",
    "            self.addWord(word)\n",
    "            \n",
    "    def addWord(self, word):\n",
    "        if word not in self.word2index:\n",
    "            self.word2index[word] = self.n_words\n",
    "            self.word2count[word] = 1\n",
    "            self.index2word[self.n_words] = word\n",
    "            self.n_words += 1\n",
    "        else:\n",
    "            self.word2count[word] += 1\n",
    "            \n",
    "    def save(self, path):\n",
    "        with open(path,'wb') as f:\n",
    "            pickle.dump([self.name,self.word2index, self.word2count, self.index2word, self.n_words],f)\n",
    "    \n",
    "    def load(self,path):\n",
    "        with open(path,'rb') as f:\n",
    "            name, self.word2index, self.word2count, self.index2word, self.n_words = pickle.load(f)\n",
    "        if self.name != name:\n",
    "            print('error: Name error------------------------------!')\n",
    "            \n",
    "    def indexesFromSentence(self, sentence):\n",
    "        indexes = []\n",
    "        all_lang_keys = self.word2index.keys()\n",
    "        for word in sentence.split(' '):\n",
    "            if word in all_lang_keys:\n",
    "                indexes.append(self.word2index[word])\n",
    "        indexes.append(EOS_token)\n",
    "        return indexes\n",
    "            \n",
    "##################################################################\n"
   ]
  },
  {
   "cell_type": "code",
   "execution_count": null,
   "metadata": {
    "collapsed": true
   },
   "outputs": [],
   "source": [
    "##open data file \n",
    "en_lines = open('../data/train.%s'% lang1).read().strip().split('\\n')\n",
    "zh_lines = open('../data/train.%s'% lang2).read().strip().split('\\n')\n",
    "data_length = len(zh_lines)\n",
    "random_sort_sequence = random.sample(range(data_length),data_length)\n",
    "\n",
    "random_sort_sequence = random_sort_sequence[0:100]##take 100 sentences for test .\n",
    "    "
   ]
  },
  {
   "cell_type": "code",
   "execution_count": null,
   "metadata": {
    "collapsed": true
   },
   "outputs": [],
   "source": [
    "inputlang = Lang('en')\n",
    "outputlang = Lang('zh')\n",
    "\n",
    "for index in random_sort_sequence:\n",
    "    tmp = [normalizeString(s) for s in en_lines[index].split('\\t')]\n",
    "    \n",
    "    "
   ]
  },
  {
   "cell_type": "code",
   "execution_count": 2,
   "metadata": {
    "collapsed": true
   },
   "outputs": [],
   "source": [
    "\n"
   ]
  },
  {
   "cell_type": "code",
   "execution_count": 3,
   "metadata": {
    "collapsed": false
   },
   "outputs": [],
   "source": [
    "inputlang = Lang('en')\n",
    "outputlang = Lang('zh')\n",
    "inputlang.load('../data/inputlang.pkl')\n",
    "outputlang.load('../data/outputlang.pkl')\n"
   ]
  },
  {
   "cell_type": "code",
   "execution_count": null,
   "metadata": {
    "collapsed": true
   },
   "outputs": [],
   "source": []
  },
  {
   "cell_type": "code",
   "execution_count": 4,
   "metadata": {
    "collapsed": true
   },
   "outputs": [],
   "source": [
    "h5py_file = h5py.File('../data/train_pairs.h5py','r')\n",
    "pairs = h5py_file['pairs']"
   ]
  },
  {
   "cell_type": "code",
   "execution_count": 5,
   "metadata": {
    "collapsed": false
   },
   "outputs": [
    {
     "name": "stdout",
     "output_type": "stream",
     "text": [
      "b'not having made me the first man '  但 他 并 没 有 让 我 成 为 你 第 一 个 男 人 ， \n"
     ]
    }
   ],
   "source": [
    "print(pairs[0][0],pairs[0][1].decode('gb2312'))"
   ]
  },
  {
   "cell_type": "code",
   "execution_count": 19,
   "metadata": {
    "collapsed": false
   },
   "outputs": [
    {
     "data": {
      "text/plain": [
       "[3, 4, 5, 6, 7, 8, 9, 10, 11, 12, 13, 14, 15, 16, 17, 18, 1]"
      ]
     },
     "execution_count": 19,
     "metadata": {},
     "output_type": "execute_result"
    }
   ],
   "source": [
    "en_MAX_LENGTH = 50\n",
    "zh_MAX_LENGTH = 80\n",
    "en_lengths = []\n",
    "zh_lengths = []\n",
    "for pair in pairs:\n",
    "    try:\n",
    "        input_sent = pair[0].decode('utf-8')\n",
    "        output_sent = pair[1].decode('gb2312')\n",
    "        en_index = inputlang.indexesFromSentence(input_sent)\n",
    "        zh_index = outputlang.indexesFromSentence(output_sent)\n",
    "        zh_index.insert(0,2)#decoder 的首位置添加识别符号\n",
    "        if len(en_index) > en_MAX_LENGTH or len(zh_index) > zh_MAX_LENGTH:\n",
    "            continue\n",
    "        en_lengths.append(len(en_index))\n",
    "        zh_lengths.append(len(zh_index))\n",
    "        \n",
    "    except UnicodeDecodeError:\n",
    "        print('Unicode decode error and the number is: ')\n"
   ]
  },
  {
   "cell_type": "code",
   "execution_count": 20,
   "metadata": {
    "collapsed": false
   },
   "outputs": [
    {
     "name": "stdout",
     "output_type": "stream",
     "text": [
      "17\n"
     ]
    }
   ],
   "source": [
    "print(len(zh_index))"
   ]
  },
  {
   "cell_type": "code",
   "execution_count": null,
   "metadata": {
    "collapsed": true
   },
   "outputs": [],
   "source": []
  }
 ],
 "metadata": {
  "anaconda-cloud": {},
  "kernelspec": {
   "display_name": "Python [conda root]",
   "language": "python",
   "name": "conda-root-py"
  },
  "language_info": {
   "codemirror_mode": {
    "name": "ipython",
    "version": 3
   },
   "file_extension": ".py",
   "mimetype": "text/x-python",
   "name": "python",
   "nbconvert_exporter": "python",
   "pygments_lexer": "ipython3",
   "version": "3.5.2"
  }
 },
 "nbformat": 4,
 "nbformat_minor": 1
}
