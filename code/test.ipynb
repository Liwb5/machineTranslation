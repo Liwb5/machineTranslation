{
 "cells": [
  {
   "cell_type": "code",
   "execution_count": 1,
   "metadata": {
    "collapsed": false
   },
   "outputs": [
    {
     "name": "stdout",
     "output_type": "stream",
     "text": [
      "<class 'list'>\n",
      "一对丹顶鹤正监视着它们的筑巢领地\n"
     ]
    }
   ],
   "source": [
    "zh_path = '../data/train.zh'\n",
    "lines = open(zh_path,encoding='utf-8').read().strip().split('\\n')\n",
    "print(type(lines))\n",
    "zh_lines = lines[0:100]\n",
    "print(zh_lines[0])"
   ]
  },
  {
   "cell_type": "code",
   "execution_count": 2,
   "metadata": {
    "collapsed": false
   },
   "outputs": [
    {
     "name": "stderr",
     "output_type": "stream",
     "text": [
      "Building prefix dict from the default dictionary ...\n",
      "Loading model from cache /tmp/jieba.cache\n"
     ]
    },
    {
     "name": "stdout",
     "output_type": "stream",
     "text": [
      "一对丹顶鹤正监视着它们的筑巢领地\n",
      "<class 'generator'>\n"
     ]
    },
    {
     "name": "stderr",
     "output_type": "stream",
     "text": [
      "Loading model cost 0.903 seconds.\n",
      "Prefix dict has been built succesfully.\n"
     ]
    },
    {
     "name": "stdout",
     "output_type": "stream",
     "text": [
      "一对/丹顶鹤/正/监视/着/它们/的/筑巢/领地\n"
     ]
    }
   ],
   "source": [
    "import random\n",
    "import jieba\n",
    "print(lines[0])\n",
    "seg_line = jieba.cut(zh_lines[0], cut_all=False)\n",
    "print(type(seg_line))\n",
    "print('/'.join(seg_line))"
   ]
  },
  {
   "cell_type": "code",
   "execution_count": 3,
   "metadata": {
    "collapsed": false
   },
   "outputs": [
    {
     "name": "stdout",
     "output_type": "stream",
     "text": [
      "['一对', '夫妇', '看见', '一个', '高个儿', '白种', '男性', '钻进', '车子', '离开', '了', '现场']\n"
     ]
    }
   ],
   "source": [
    "zh_data_list = []\n",
    "for line in zh_lines:\n",
    "    seg_line = jieba.cut(line,cut_all=False)\n",
    "    dic = [seg for seg in seg_line]\n",
    "    zh_data_list.append(dic)\n",
    "print(zh_data_list[97])"
   ]
  },
  {
   "cell_type": "code",
   "execution_count": 4,
   "metadata": {
    "collapsed": false,
    "scrolled": true
   },
   "outputs": [],
   "source": [
    "en_path = '../data/train.en'\n",
    "lines = open(en_path,encoding='utf-8').read().strip().split('\\n')\n",
    "\n",
    "en_lines = lines[0:100]\n",
    "#print(lines)"
   ]
  },
  {
   "cell_type": "code",
   "execution_count": 5,
   "metadata": {
    "collapsed": false
   },
   "outputs": [],
   "source": [
    "import unicodedata\n",
    "import string\n",
    "import re\n",
    "def unicodeToAscii(s):\n",
    "    return ''.join(\n",
    "        c for c in unicodedata.normalize('NFD', s)\n",
    "        if unicodedata.category(c) != 'Mn'\n",
    "    )\n",
    "def normalizeString(s):\n",
    "    s = unicodeToAscii(s.lower().strip())\n",
    "    s = re.sub(r\"([.!?])\", r\" \\1\", s)\n",
    "    s = re.sub(r\"[^a-zA-Z.!?]+\", r\" \", s)\n",
    "    return s"
   ]
  },
  {
   "cell_type": "code",
   "execution_count": 6,
   "metadata": {
    "collapsed": false
   },
   "outputs": [
    {
     "name": "stdout",
     "output_type": "stream",
     "text": [
      "['a pair of red crowned cranes have staked out their nesting territory']\n"
     ]
    }
   ],
   "source": [
    "en_lines = [[normalizeString(s) for s in l.split('\\t')] for l in en_lines]\n",
    "print(en_lines[0])"
   ]
  },
  {
   "cell_type": "code",
   "execution_count": 10,
   "metadata": {
    "collapsed": false
   },
   "outputs": [],
   "source": [
    "Pairs = []\n",
    "for zh, en in zip(zh_data_list, en_lines):\n",
    "    Pairs.append([zh,en[0]])"
   ]
  },
  {
   "cell_type": "code",
   "execution_count": 11,
   "metadata": {
    "collapsed": false
   },
   "outputs": [
    {
     "name": "stdout",
     "output_type": "stream",
     "text": [
      "[['一对', '丹顶鹤', '正', '监视', '着', '它们', '的', '筑巢', '领地'], 'a pair of red crowned cranes have staked out their nesting territory']\n"
     ]
    }
   ],
   "source": [
    "print(Pairs[0])"
   ]
  },
  {
   "cell_type": "code",
   "execution_count": 13,
   "metadata": {
    "collapsed": false
   },
   "outputs": [
    {
     "name": "stdout",
     "output_type": "stream",
     "text": [
      "a pair of red crowned cranes have staked out their nesting territory\n"
     ]
    }
   ],
   "source": [
    "print(Pairs[0][1])"
   ]
  },
  {
   "cell_type": "code",
   "execution_count": 1,
   "metadata": {
    "collapsed": true
   },
   "outputs": [],
   "source": [
    "import unicodedata\n",
    "import string\n",
    "import re\n",
    "import jieba\n",
    "\n",
    "def unicodeToAscii(s):\n",
    "    return ''.join(\n",
    "        c for c in unicodedata.normalize('NFD', s)\n",
    "        if unicodedata.category(c) != 'Mn'\n",
    "    )\n",
    "def normalizeString(s):\n",
    "    s = unicodeToAscii(s.lower().strip())\n",
    "    s = re.sub(r\"([.!?])\", r\" \\1\", s)\n",
    "    s = re.sub(r\"[^a-zA-Z.!?]+\", r\" \", s)\n",
    "    return s\n",
    "\n",
    "\n",
    "#lang1 = 'zh'  lang2 = 'en'\n",
    "def readTrainLangs(lang1, lang2, reverse=False):\n",
    "    print(\"Reading lines...\")\n",
    "\n",
    "    zh_lines = open('../data/train.%s'% lang1, encoding='utf-8').read().strip().split('\\n')\n",
    "    zh_lines = zh_lines[0:20]\n",
    "    zh_data_list = []\n",
    "    for line in zh_lines:\n",
    "        seg_line = jieba.cut(line,cut_all=False)\n",
    "        dic = [seg for seg in seg_line]\n",
    "        zh_data_list.append(dic)\n",
    "\n",
    "    en_lines = open('../data/train.%s'% lang2, encoding='utf-8').read().strip().split('\\n')\n",
    "    en_lines = en_lines[0:20]\n",
    "    # Split every line into pairs and normalize\n",
    "    en_data_list = [[normalizeString(s) for s in l.split('\\t')] for l in en_lines]\n",
    "\n",
    "    pairs = []\n",
    "    if reverse:\n",
    "        for en,zh in zip(en_data_list,zh_data_list):\n",
    "            pairs.append([en[0],zh])\n",
    "    else:\n",
    "        for en,zh in zip(en_data_list,zh_data_list):\n",
    "            pairs.append([zh, en[0]])\n",
    "\n",
    "    return pairs"
   ]
  },
  {
   "cell_type": "code",
   "execution_count": 2,
   "metadata": {
    "collapsed": false
   },
   "outputs": [
    {
     "name": "stdout",
     "output_type": "stream",
     "text": [
      "Reading lines...\n"
     ]
    },
    {
     "name": "stderr",
     "output_type": "stream",
     "text": [
      "Building prefix dict from the default dictionary ...\n",
      "Loading model from cache /tmp/jieba.cache\n",
      "Loading model cost 0.860 seconds.\n",
      "Prefix dict has been built succesfully.\n"
     ]
    }
   ],
   "source": [
    "pairs = readTrainLangs('zh','en')"
   ]
  },
  {
   "cell_type": "code",
   "execution_count": 3,
   "metadata": {
    "collapsed": false
   },
   "outputs": [
    {
     "name": "stdout",
     "output_type": "stream",
     "text": [
      "[[['一对', '丹顶鹤', '正', '监视', '着', '它们', '的', '筑巢', '领地'], 'a pair of red crowned cranes have staked out their nesting territory'], [['一对', '乌鸦', '飞', '到', '我们', '屋顶', '上', '的', '巢里', '，', '它们', '好像', '专门', '为拉木', '而', '来', '的', '。'], 'a pair of crows had come to nest on our roof as if they had come for lhamo .'], [['一对', '乖乖仔', '开着', '老爸', '的', '车子', '。'], 'a couple of boys driving around in daddy s car .'], [['一对', '九', '？', '一对', '九', '你', '就', '全', '下注', '了', '？'], 'a pair of nines ? you pushed in with a pair of nines ?'], [['一对二', '总', '不是', '好事', '，'], 'fighting two against one is never ideal '], [['一对二', '，', '沃克', '传给', '波顿', '。'], 'it s a neat one two . walker to burton .'], [['一对二', '胜', '。'], 'deuces the winner .'], [['一对', '五', '。', '一对', '五', '。', '胜算', '不大', '啊', '。'], 'five on one . five on one . yeah not the greatest odds .'], [['一对', '五年', '没见', '过', '的', '姐妹', '一场', '激烈', '的', '争吵', '？'], 'an incredibly emotional fight between sisters '], [['一对', '五百', '诶', '。'], 'one against .'], [['一对', '五胜', '。'], 'pair of fives the winner .'], [['一对', '亲密', '的', '美国', '兄妹', '，'], 'america s brother and sister darlings '], [['一对', '人用', '致命', '的', '春药', '满足', '欲望', '。'], 'a couple administering a lethal aphrodisiac to satisfy their desires .'], [['一对', '什么', '？'], 'a couple of what ?'], [['一对', '什么', '？', '哥们儿', '是', '谁', '？'], 'couple of what ? who s buddy ?'], [['一对', '什么', '，', '我', '并不知道', '！'], 'couple of what i don t know !'], [['一对', '？', '他妈的', '什么', '意思', '？'], 'a couple ? what the fuck does that mean ?'], [['一对', '令人信服', '的', '已婚', '夫妇', '。'], 'into a convincing married couple .'], [['一对', '伙计', '们', '坐在', '战场', '上', '。'], 'a bunch of fellas sitting in the middle of this field .'], [['一对', '住', '在', '别墅', '里', '的', '有钱', '夫妇', '，'], 'about this rich couple in this townhouse ']]\n"
     ]
    }
   ],
   "source": [
    "print(pairs)"
   ]
  },
  {
   "cell_type": "code",
   "execution_count": 7,
   "metadata": {
    "collapsed": false
   },
   "outputs": [
    {
     "name": "stdout",
     "output_type": "stream",
     "text": [
      "[['一对', '住', '在', '别墅', '里', '的', '有钱', '夫妇', '，'], 'about this rich couple in this townhouse ']\n"
     ]
    }
   ],
   "source": [
    "print(pairs[19])"
   ]
  },
  {
   "cell_type": "code",
   "execution_count": 5,
   "metadata": {
    "collapsed": false
   },
   "outputs": [
    {
     "name": "stdout",
     "output_type": "stream",
     "text": [
      "['一对', '丹顶鹤', '正', '监视', '着', '它们', '的', '筑巢', '领地']\n"
     ]
    }
   ],
   "source": [
    "print(pairs[0][0])"
   ]
  },
  {
   "cell_type": "code",
   "execution_count": null,
   "metadata": {
    "collapsed": true
   },
   "outputs": [],
   "source": []
  }
 ],
 "metadata": {
  "anaconda-cloud": {},
  "kernelspec": {
   "display_name": "Python [conda root]",
   "language": "python",
   "name": "conda-root-py"
  },
  "language_info": {
   "codemirror_mode": {
    "name": "ipython",
    "version": 3
   },
   "file_extension": ".py",
   "mimetype": "text/x-python",
   "name": "python",
   "nbconvert_exporter": "python",
   "pygments_lexer": "ipython3",
   "version": "3.5.2"
  }
 },
 "nbformat": 4,
 "nbformat_minor": 1
}
