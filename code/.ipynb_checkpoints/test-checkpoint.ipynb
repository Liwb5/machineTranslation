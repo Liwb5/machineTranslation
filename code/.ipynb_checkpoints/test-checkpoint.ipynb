{
 "cells": [
  {
   "cell_type": "code",
   "execution_count": 1,
   "metadata": {
    "collapsed": false
   },
   "outputs": [
    {
     "name": "stdout",
     "output_type": "stream",
     "text": [
      "<class 'list'>\n",
      "一对丹顶鹤正监视着它们的筑巢领地\n"
     ]
    }
   ],
   "source": [
    "zh_path = '../data/train.zh'\n",
    "lines = open(zh_path,encoding='utf-8').read().strip().split('\\n')\n",
    "print(type(lines))\n",
    "zh_lines = lines[0:100]\n",
    "print(zh_lines[0])"
   ]
  },
  {
   "cell_type": "code",
   "execution_count": 2,
   "metadata": {
    "collapsed": false
   },
   "outputs": [
    {
     "name": "stderr",
     "output_type": "stream",
     "text": [
      "Building prefix dict from the default dictionary ...\n",
      "Loading model from cache /tmp/jieba.cache\n"
     ]
    },
    {
     "name": "stdout",
     "output_type": "stream",
     "text": [
      "一对丹顶鹤正监视着它们的筑巢领地\n",
      "<class 'generator'>\n"
     ]
    },
    {
     "name": "stderr",
     "output_type": "stream",
     "text": [
      "Loading model cost 0.903 seconds.\n",
      "Prefix dict has been built succesfully.\n"
     ]
    },
    {
     "name": "stdout",
     "output_type": "stream",
     "text": [
      "一对/丹顶鹤/正/监视/着/它们/的/筑巢/领地\n"
     ]
    }
   ],
   "source": [
    "import random\n",
    "import jieba\n",
    "print(lines[0])\n",
    "seg_line = jieba.cut(zh_lines[0], cut_all=False)\n",
    "print(type(seg_line))\n",
    "print('/'.join(seg_line))"
   ]
  },
  {
   "cell_type": "code",
   "execution_count": 3,
   "metadata": {
    "collapsed": false
   },
   "outputs": [
    {
     "name": "stdout",
     "output_type": "stream",
     "text": [
      "['一对', '夫妇', '看见', '一个', '高个儿', '白种', '男性', '钻进', '车子', '离开', '了', '现场']\n"
     ]
    }
   ],
   "source": [
    "zh_data_list = []\n",
    "for line in zh_lines:\n",
    "    seg_line = jieba.cut(line,cut_all=False)\n",
    "    dic = [seg for seg in seg_line]\n",
    "    zh_data_list.append(dic)\n",
    "print(zh_data_list[97])"
   ]
  },
  {
   "cell_type": "code",
   "execution_count": 4,
   "metadata": {
    "collapsed": false,
    "scrolled": true
   },
   "outputs": [],
   "source": [
    "en_path = '../data/train.en'\n",
    "lines = open(en_path,encoding='utf-8').read().strip().split('\\n')\n",
    "\n",
    "en_lines = lines[0:100]\n",
    "#print(lines)"
   ]
  },
  {
   "cell_type": "code",
   "execution_count": 5,
   "metadata": {
    "collapsed": false
   },
   "outputs": [],
   "source": [
    "import unicodedata\n",
    "import string\n",
    "import re\n",
    "def unicodeToAscii(s):\n",
    "    return ''.join(\n",
    "        c for c in unicodedata.normalize('NFD', s)\n",
    "        if unicodedata.category(c) != 'Mn'\n",
    "    )\n",
    "def normalizeString(s):\n",
    "    s = unicodeToAscii(s.lower().strip())\n",
    "    s = re.sub(r\"([.!?])\", r\" \\1\", s)\n",
    "    s = re.sub(r\"[^a-zA-Z.!?]+\", r\" \", s)\n",
    "    return s"
   ]
  },
  {
   "cell_type": "code",
   "execution_count": 6,
   "metadata": {
    "collapsed": false
   },
   "outputs": [
    {
     "name": "stdout",
     "output_type": "stream",
     "text": [
      "['a pair of red crowned cranes have staked out their nesting territory']\n"
     ]
    }
   ],
   "source": [
    "en_lines = [[normalizeString(s) for s in l.split('\\t')] for l in en_lines]\n",
    "print(en_lines[0])"
   ]
  },
  {
   "cell_type": "code",
   "execution_count": 10,
   "metadata": {
    "collapsed": false
   },
   "outputs": [],
   "source": [
    "Pairs = []\n",
    "for zh, en in zip(zh_data_list, en_lines):\n",
    "    Pairs.append([zh,en[0]])"
   ]
  },
  {
   "cell_type": "code",
   "execution_count": 11,
   "metadata": {
    "collapsed": false
   },
   "outputs": [
    {
     "name": "stdout",
     "output_type": "stream",
     "text": [
      "[['一对', '丹顶鹤', '正', '监视', '着', '它们', '的', '筑巢', '领地'], 'a pair of red crowned cranes have staked out their nesting territory']\n"
     ]
    }
   ],
   "source": [
    "print(Pairs[0])"
   ]
  },
  {
   "cell_type": "code",
   "execution_count": 13,
   "metadata": {
    "collapsed": false
   },
   "outputs": [
    {
     "name": "stdout",
     "output_type": "stream",
     "text": [
      "a pair of red crowned cranes have staked out their nesting territory\n"
     ]
    }
   ],
   "source": [
    "print(Pairs[0][1])"
   ]
  },
  {
   "cell_type": "code",
   "execution_count": null,
   "metadata": {
    "collapsed": true
   },
   "outputs": [],
   "source": [
    "import unicodedata\n",
    "import string\n",
    "import re\n",
    "import jieba\n",
    "\n",
    "def unicodeToAscii(s):\n",
    "    return ''.join(\n",
    "        c for c in unicodedata.normalize('NFD', s)\n",
    "        if unicodedata.category(c) != 'Mn'\n",
    "    )\n",
    "def normalizeString(s):\n",
    "    s = unicodeToAscii(s.lower().strip())\n",
    "    s = re.sub(r\"([.!?])\", r\" \\1\", s)\n",
    "    s = re.sub(r\"[^a-zA-Z.!?]+\", r\" \", s)\n",
    "    return s\n",
    "\n",
    "\n",
    "#lang1 = 'zh'  lang2 = 'en'\n",
    "def readTrainLangs(lang1, lang2, reverse=False):\n",
    "    print(\"Reading lines...\")\n",
    "\n",
    "    zh_lines = open('../data/train.%s'% lang1, encoding='utf-8').read().strip().split('\\n')\n",
    "    zh_lines = zh_lines[0:20]\n",
    "    zh_data_list = []\n",
    "    for line in zh_lines:\n",
    "        seg_line = jieba.cut(line,cut_all=False)\n",
    "        dic = [seg for seg in seg_line]\n",
    "        zh_data_list.append(dic)\n",
    "\n",
    "    en_lines = open('../data/train.%s'% lang2, encoding='utf-8').read().strip().split('\\n')\n",
    "    en_lines = en_lines[0:20]\n",
    "    # Split every line into pairs and normalize\n",
    "    en_data_list = [[normalizeString(s) for s in l.split('\\t')] for l in en_lines]\n",
    "\n",
    "    pairs = []\n",
    "    if reverse:\n",
    "        for en,zh in zip(en_data_list,zh_data_list):\n",
    "            pairs.append([en[0],zh])\n",
    "    else:\n",
    "        for en,zh in zip(en_data_list,zh_data_list):\n",
    "            pairs.append([zh, en[0]])\n",
    "\n",
    "    return pairs"
   ]
  }
 ],
 "metadata": {
  "anaconda-cloud": {},
  "kernelspec": {
   "display_name": "Python [conda root]",
   "language": "python",
   "name": "conda-root-py"
  },
  "language_info": {
   "codemirror_mode": {
    "name": "ipython",
    "version": 3
   },
   "file_extension": ".py",
   "mimetype": "text/x-python",
   "name": "python",
   "nbconvert_exporter": "python",
   "pygments_lexer": "ipython3",
   "version": "3.5.2"
  }
 },
 "nbformat": 4,
 "nbformat_minor": 1
}
